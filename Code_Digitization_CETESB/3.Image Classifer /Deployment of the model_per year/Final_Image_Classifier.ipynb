{
  "cells": [
    {
      "cell_type": "markdown",
      "metadata": {
        "id": "view-in-github",
        "colab_type": "text"
      },
      "source": [
        "<a href=\"https://colab.research.google.com/github/nsamlani/Code_Digitization_CETESB/blob/main/Code_Digitization_CETESB/3.Image%20Classifer%20/Deployment%20of%20the%20model_per%20year/Final_Image_Classifier.ipynb\" target=\"_parent\"><img src=\"https://colab.research.google.com/assets/colab-badge.svg\" alt=\"Open In Colab\"/></a>"
      ]
    },
    {
      "cell_type": "code",
      "execution_count": null,
      "metadata": {
        "id": "WZwnq3aX6e-f"
      },
      "outputs": [],
      "source": [
        "import matplotlib.pylab as plt\n",
        "import tensorflow as tf\n",
        "import tensorflow_hub as hub\n",
        "import numpy as np\n",
        "import pandas as pd\n",
        "import cv2\n",
        "from sklearn.metrics import classification_report, confusion_matrix\n",
        "import os\n",
        "import random\n",
        "\n",
        "from tensorflow.keras.preprocessing.image import ImageDataGenerator\n",
        "from tensorflow.keras.optimizers import RMSprop"
      ]
    },
    {
      "cell_type": "code",
      "execution_count": null,
      "metadata": {
        "colab": {
          "base_uri": "https://localhost:8080/"
        },
        "id": "srVnkfLL7iBI",
        "outputId": "1ac5549f-0d28-4004-da39-d6a89a31d727"
      },
      "outputs": [
        {
          "output_type": "stream",
          "name": "stdout",
          "text": [
            "Mounted at /content/drive\n"
          ]
        }
      ],
      "source": [
        "#### file root #####\n",
        "from google.colab import drive\n",
        "drive.mount('/content/drive')\n",
        "\n",
        "data_root='/basedata'"
      ]
    },
    {
      "cell_type": "code",
      "execution_count": null,
      "metadata": {
        "id": "mcrjs-Dy7TS4"
      },
      "outputs": [],
      "source": [
        "train_dir = f\"{data_root}/train\"\n",
        "\n",
        "\n",
        "train_checked = [f\"{train_dir}/checked/{i}\" for i in os.listdir(f\"{train_dir}/checked/\")]\n",
        "train_unchecked = [f\"{train_dir}/unchecked/{i}\" for i in os.listdir(f\"{train_dir}/unchecked/\")]\n",
        "\n",
        "train_imgs = train_checked + train_unchecked\n",
        "random.shuffle(train_imgs)"
      ]
    },
    {
      "cell_type": "code",
      "execution_count": null,
      "metadata": {
        "id": "_TYY0-XNmHF_",
        "colab": {
          "base_uri": "https://localhost:8080/"
        },
        "outputId": "343bbf07-cceb-4643-93c5-1dcad65e937b"
      },
      "outputs": [
        {
          "output_type": "execute_result",
          "data": {
            "text/plain": [
              "3722"
            ]
          },
          "metadata": {},
          "execution_count": 5
        }
      ],
      "source": [
        "len(train_imgs)"
      ]
    },
    {
      "cell_type": "code",
      "execution_count": null,
      "metadata": {
        "id": "XdfzcW-vI-1f",
        "colab": {
          "base_uri": "https://localhost:8080/",
          "height": 447
        },
        "outputId": "d2d0ff0e-9a69-4c64-9345-55d6b95c804a"
      },
      "outputs": [
        {
          "output_type": "execute_result",
          "data": {
            "text/plain": [
              "<matplotlib.image.AxesImage at 0x7fec34a7cb20>"
            ]
          },
          "metadata": {},
          "execution_count": 6
        },
        {
          "output_type": "display_data",
          "data": {
            "text/plain": [
              "<Figure size 640x480 with 1 Axes>"
            ],
            "image/png": "[encoded data removed]"
          },
          "metadata": {}
        }
      ],
      "source": [
        "# import matplotlib.image as mpimg\n",
        "\n",
        "img = cv2.imread(train_imgs[1],0)\n",
        "plt.imshow(img)\n"
      ]
    },
    {
      "cell_type": "code",
      "execution_count": null,
      "metadata": {
        "id": "JhCO5EGlAcmq"
      },
      "outputs": [],
      "source": [
        "########### Declarinbg image dimensions\n",
        "\n",
        "nrows = 13\n",
        "ncolumns = 13\n",
        "channels = 1\n"
      ]
    },
    {
      "cell_type": "code",
      "execution_count": null,
      "metadata": {
        "id": "Kk9NQOTfAvAf"
      },
      "outputs": [],
      "source": [
        "####### Function for reading/processing the images\n",
        "\n",
        "def read_and_process_image(list_of_images):\n",
        "  X = [] # images\n",
        "  y = [] # labels\n",
        "  target_size = (13,13)\n",
        "\n",
        "  for image in list_of_images:\n",
        "    img = cv2.imread(image,0)\n",
        "    img_resized = cv2.resize(img, target_size)\n",
        "    _, binary_img = cv2.threshold(img_resized, 0, 255, cv2.THRESH_BINARY + cv2.THRESH_OTSU)\n",
        "\n",
        "    # Convert the binary image to a 3D tensor with a single channel\n",
        "    binary_img = np.expand_dims(binary_img, axis=-1)\n",
        "    binary_img = binary_img.astype(np.float64)\n",
        "\n",
        "    X.append(binary_img)\n",
        "\n",
        "    # get the labels\n",
        "\n",
        "    if 'unchecked' in image:\n",
        "      y.append(0)\n",
        "    elif 'checked' in image:\n",
        "      y.append(1)\n",
        "\n",
        "\n",
        "  return X,y"
      ]
    },
    {
      "cell_type": "code",
      "execution_count": null,
      "metadata": {
        "id": "AphOr2azGboz"
      },
      "outputs": [],
      "source": [
        "X_train,y_train = read_and_process_image(train_imgs)\n",
        "\n"
      ]
    },
    {
      "cell_type": "code",
      "source": [
        "train_imgs"
      ],
      "metadata": {
        "id": "WrO5K9fNgre3"
      },
      "execution_count": null,
      "outputs": []
    },
    {
      "cell_type": "code",
      "execution_count": null,
      "metadata": {
        "id": "M5-zuWYSGdL9"
      },
      "outputs": [],
      "source": [
        "#### Converting list to array\n",
        "\n",
        "X_train = np.array(X_train)\n",
        "y_train = np.array(y_train)\n"
      ]
    },
    {
      "cell_type": "code",
      "source": [
        "X_train.shape"
      ],
      "metadata": {
        "id": "3zYoae5NXh5q"
      },
      "execution_count": null,
      "outputs": []
    },
    {
      "cell_type": "code",
      "execution_count": null,
      "metadata": {
        "colab": {
          "base_uri": "https://localhost:8080/"
        },
        "id": "sYc-UqcCShP0",
        "outputId": "e16ba280-7026-4bf5-ed1c-c6878524faf6"
      },
      "outputs": [
        {
          "output_type": "stream",
          "name": "stdout",
          "text": [
            "Model: \"sequential\"\n",
            "_________________________________________________________________\n",
            " Layer (type)                Output Shape              Param #   \n",
            "=================================================================\n",
            " conv2d (Conv2D)             (None, 13, 13, 8)         80        \n",
            "                                                                 \n",
            " max_pooling2d (MaxPooling2D  (None, 6, 6, 8)          0         \n",
            " )                                                               \n",
            "                                                                 \n",
            " conv2d_1 (Conv2D)           (None, 6, 6, 16)          1168      \n",
            "                                                                 \n",
            " max_pooling2d_1 (MaxPooling  (None, 3, 3, 16)         0         \n",
            " 2D)                                                             \n",
            "                                                                 \n",
            " conv2d_2 (Conv2D)           (None, 3, 3, 32)          4640      \n",
            "                                                                 \n",
            " max_pooling2d_2 (MaxPooling  (None, 1, 1, 32)         0         \n",
            " 2D)                                                             \n",
            "                                                                 \n",
            " flatten (Flatten)           (None, 32)                0         \n",
            "                                                                 \n",
            " dropout (Dropout)           (None, 32)                0         \n",
            "                                                                 \n",
            " dense (Dense)               (None, 32)                1056      \n",
            "                                                                 \n",
            " dense_1 (Dense)             (None, 1)                 33        \n",
            "                                                                 \n",
            "=================================================================\n",
            "Total params: 6,977\n",
            "Trainable params: 6,977\n",
            "Non-trainable params: 0\n",
            "_________________________________________________________________\n"
          ]
        }
      ],
      "source": [
        "from keras import layers\n",
        "from keras import models\n",
        "from keras import optimizers\n",
        "\n",
        "\n",
        "batch_size = 32\n",
        "############ Model #############################\n",
        "\n",
        "model = models.Sequential()\n",
        "model.add(layers.Conv2D(8,(3,3),activation = 'relu', input_shape = (13,13,1), padding = 'same'))\n",
        "model.add(layers.MaxPooling2D((2,2),strides = (2,2)))\n",
        "\n",
        "model.add(layers.Conv2D(16,(3,3),activation = 'relu', padding = 'same'))\n",
        "model.add(layers.MaxPooling2D((2,2),strides = (2,2)))\n",
        "\n",
        "model.add(layers.Conv2D(32,(3,3),activation = 'relu', padding = 'same'))\n",
        "model.add(layers.MaxPooling2D((2,2),strides = (2,2)))\n",
        "\n",
        "model.add(layers.Flatten())\n",
        "model.add(layers.Dropout(0.5))\n",
        "model.add(layers.Dense(32, activation = 'relu'))\n",
        "\n",
        "model.add(layers.Dense(1,activation='sigmoid'))\n",
        "\n",
        "model.summary()\n"
      ]
    },
    {
      "cell_type": "code",
      "execution_count": null,
      "metadata": {
        "id": "WhWMRcyxUTYW"
      },
      "outputs": [],
      "source": [
        "from keras import optimizers\n",
        "\n",
        "# model.compile(\n",
        "#     optimizer = tf.keras.optimizers.Adam(\n",
        "#     learning_rate=0.0001),\n",
        "#     loss = 'binary_crossentropy',\n",
        "#     metrics = ['accuracy'])\n",
        "\n",
        "\n",
        "model.compile(loss= 'binary_crossentropy',\n",
        "              optimizer = optimizers.RMSprop(learning_rate=1e-5),\n",
        "              metrics = ['acc'])"
      ]
    },
    {
      "cell_type": "code",
      "execution_count": null,
      "metadata": {
        "id": "Ahm3C9fpZKLE"
      },
      "outputs": [],
      "source": [
        "## Creating data generators - data augmentation\n",
        "\n",
        "# train_datagen = ImageDataGenerator(rescale = 1/255,\n",
        "#                            width_shift_range=0.2,      # randomly shift the width of the image by up to 10%\n",
        "#                            height_shift_range=0.2,     # randomly shift the height of the image by up to 10%)\n",
        "#                            zoom_range=0.2,\n",
        "#                            shear_range = 0.2,\n",
        "#                            rotation_range=30,\n",
        "#                            horizontal_flip = True)           # randomly zoom into the image by up to 10%\n",
        "\n",
        "\n",
        "# val_datagen = ImageDataGenerator(rescale=1/255)"
      ]
    },
    {
      "cell_type": "code",
      "execution_count": null,
      "metadata": {
        "id": "CEGM2s2pbUeY"
      },
      "outputs": [],
      "source": [
        "## Creating the flow generators\n",
        "\n",
        "# train_generator = train_datagen.flow(X_train,y_train,batch_size=batch_size)\n",
        "# val_generator = val_datagen.flow(X_val,y_val,batch_size=batch_size)"
      ]
    },
    {
      "cell_type": "code",
      "source": [
        "#### Preparing validation data\n",
        "\n",
        "# val_dir = f\"{data_root}/val\"\n",
        "\n",
        "# val_checked = [f\"{val_dir}/checked/{i}\" for i in os.listdir(f\"{val_dir}/checked/\")]\n",
        "# val_unchecked = [f\"{val_dir}/unchecked/{i}\" for i in os.listdir(f\"{val_dir}/unchecked/\")]\n",
        "\n",
        "# val_imgs = val_checked + val_unchecked\n",
        "# random.shuffle(val_imgs)\n",
        "\n",
        "\n",
        "# X_val,y_val = read_and_process_image(val_imgs)\n",
        "\n",
        "# X_val = np.array(X_val)\n",
        "# y_val = np.array(y_val)"
      ],
      "metadata": {
        "id": "PtoVny8Kjppe"
      },
      "execution_count": null,
      "outputs": []
    },
    {
      "cell_type": "code",
      "execution_count": null,
      "metadata": {
        "colab": {
          "base_uri": "https://localhost:8080/"
        },
        "id": "aeI8UqMJbi4U",
        "outputId": "610e102b-7946-4ad7-e7cd-1f2a149d911f"
      },
      "outputs": [
        {
          "output_type": "stream",
          "name": "stdout",
          "text": [
            "Epoch 1/150\n",
            "117/117 [==============================] - 10s 5ms/step - loss: 10.7962 - acc: 0.5140\n",
            "Epoch 2/150\n",
            "117/117 [==============================] - 0s 4ms/step - loss: 8.4484 - acc: 0.5465\n",
            "Epoch 3/150\n",
            "117/117 [==============================] - 0s 4ms/step - loss: 6.6387 - acc: 0.5948\n",
            "Epoch 4/150\n",
            "117/117 [==============================] - 0s 4ms/step - loss: 5.1516 - acc: 0.6330\n",
            "Epoch 5/150\n",
            "117/117 [==============================] - 0s 4ms/step - loss: 4.0593 - acc: 0.6698\n",
            "Epoch 6/150\n",
            "117/117 [==============================] - 0s 4ms/step - loss: 3.0596 - acc: 0.7233\n",
            "Epoch 7/150\n",
            "117/117 [==============================] - 0s 4ms/step - loss: 2.0546 - acc: 0.7781\n",
            "Epoch 8/150\n",
            "117/117 [==============================] - 0s 4ms/step - loss: 1.8042 - acc: 0.7910\n",
            "Epoch 9/150\n",
            "117/117 [==============================] - 0s 4ms/step - loss: 1.3733 - acc: 0.8189\n",
            "Epoch 10/150\n",
            "117/117 [==============================] - 0s 4ms/step - loss: 0.9932 - acc: 0.8598\n",
            "Epoch 11/150\n",
            "117/117 [==============================] - 0s 4ms/step - loss: 0.8640 - acc: 0.8627\n",
            "Epoch 12/150\n",
            "117/117 [==============================] - 0s 4ms/step - loss: 0.6516 - acc: 0.8955\n",
            "Epoch 13/150\n",
            "117/117 [==============================] - 0s 4ms/step - loss: 0.5775 - acc: 0.9003\n",
            "Epoch 14/150\n",
            "117/117 [==============================] - 0s 4ms/step - loss: 0.4335 - acc: 0.9130\n",
            "Epoch 15/150\n",
            "117/117 [==============================] - 0s 4ms/step - loss: 0.3878 - acc: 0.9234\n",
            "Epoch 16/150\n",
            "117/117 [==============================] - 1s 6ms/step - loss: 0.2457 - acc: 0.9447\n",
            "Epoch 17/150\n",
            "117/117 [==============================] - 1s 6ms/step - loss: 0.2454 - acc: 0.9417\n",
            "Epoch 18/150\n",
            "117/117 [==============================] - 1s 6ms/step - loss: 0.2034 - acc: 0.9471\n",
            "Epoch 19/150\n",
            "117/117 [==============================] - 1s 6ms/step - loss: 0.1651 - acc: 0.9581\n",
            "Epoch 20/150\n",
            "117/117 [==============================] - 1s 6ms/step - loss: 0.1459 - acc: 0.9632\n",
            "Epoch 21/150\n",
            "117/117 [==============================] - 1s 5ms/step - loss: 0.1530 - acc: 0.9645\n",
            "Epoch 22/150\n",
            "117/117 [==============================] - 0s 4ms/step - loss: 0.1211 - acc: 0.9678\n",
            "Epoch 23/150\n",
            "117/117 [==============================] - 0s 4ms/step - loss: 0.1106 - acc: 0.9713\n",
            "Epoch 24/150\n",
            "117/117 [==============================] - 1s 5ms/step - loss: 0.0860 - acc: 0.9702\n",
            "Epoch 25/150\n",
            "117/117 [==============================] - 0s 4ms/step - loss: 0.0691 - acc: 0.9785\n",
            "Epoch 26/150\n",
            "117/117 [==============================] - 1s 5ms/step - loss: 0.0554 - acc: 0.9804\n",
            "Epoch 27/150\n",
            "117/117 [==============================] - 0s 4ms/step - loss: 0.0541 - acc: 0.9809\n",
            "Epoch 28/150\n",
            "117/117 [==============================] - 1s 4ms/step - loss: 0.0489 - acc: 0.9825\n",
            "Epoch 29/150\n",
            "117/117 [==============================] - 0s 4ms/step - loss: 0.0454 - acc: 0.9852\n",
            "Epoch 30/150\n",
            "117/117 [==============================] - 0s 4ms/step - loss: 0.0428 - acc: 0.9868\n",
            "Epoch 31/150\n",
            "117/117 [==============================] - 0s 4ms/step - loss: 0.0357 - acc: 0.9890\n",
            "Epoch 32/150\n",
            "117/117 [==============================] - 0s 4ms/step - loss: 0.0390 - acc: 0.9906\n",
            "Epoch 33/150\n",
            "117/117 [==============================] - 0s 4ms/step - loss: 0.0251 - acc: 0.9901\n",
            "Epoch 34/150\n",
            "117/117 [==============================] - 0s 4ms/step - loss: 0.0232 - acc: 0.9906\n",
            "Epoch 35/150\n",
            "117/117 [==============================] - 0s 4ms/step - loss: 0.0276 - acc: 0.9901\n",
            "Epoch 36/150\n",
            "117/117 [==============================] - 0s 4ms/step - loss: 0.0251 - acc: 0.9922\n",
            "Epoch 37/150\n",
            "117/117 [==============================] - 0s 4ms/step - loss: 0.0189 - acc: 0.9930\n",
            "Epoch 38/150\n",
            "117/117 [==============================] - 0s 4ms/step - loss: 0.0203 - acc: 0.9936\n",
            "Epoch 39/150\n",
            "117/117 [==============================] - 0s 4ms/step - loss: 0.0230 - acc: 0.9925\n",
            "Epoch 40/150\n",
            "117/117 [==============================] - 0s 4ms/step - loss: 0.0190 - acc: 0.9944\n",
            "Epoch 41/150\n",
            "117/117 [==============================] - 1s 5ms/step - loss: 0.0126 - acc: 0.9954\n",
            "Epoch 42/150\n",
            "117/117 [==============================] - 1s 6ms/step - loss: 0.0170 - acc: 0.9954\n",
            "Epoch 43/150\n",
            "117/117 [==============================] - 1s 6ms/step - loss: 0.0151 - acc: 0.9941\n",
            "Epoch 44/150\n",
            "117/117 [==============================] - 1s 6ms/step - loss: 0.0186 - acc: 0.9925\n",
            "Epoch 45/150\n",
            "117/117 [==============================] - 1s 6ms/step - loss: 0.0091 - acc: 0.9965\n",
            "Epoch 46/150\n",
            "117/117 [==============================] - 1s 5ms/step - loss: 0.0133 - acc: 0.9949\n",
            "Epoch 47/150\n",
            "117/117 [==============================] - 0s 4ms/step - loss: 0.0075 - acc: 0.9970\n",
            "Epoch 48/150\n",
            "117/117 [==============================] - 0s 4ms/step - loss: 0.0127 - acc: 0.9952\n",
            "Epoch 49/150\n",
            "117/117 [==============================] - 0s 4ms/step - loss: 0.0109 - acc: 0.9965\n",
            "Epoch 50/150\n",
            "117/117 [==============================] - 0s 4ms/step - loss: 0.0114 - acc: 0.9968\n",
            "Epoch 51/150\n",
            "117/117 [==============================] - 0s 4ms/step - loss: 0.0140 - acc: 0.9957\n",
            "Epoch 52/150\n",
            "117/117 [==============================] - 0s 4ms/step - loss: 0.0096 - acc: 0.9973\n",
            "Epoch 53/150\n",
            "117/117 [==============================] - 0s 4ms/step - loss: 0.0079 - acc: 0.9976\n",
            "Epoch 54/150\n",
            "117/117 [==============================] - 0s 4ms/step - loss: 0.0077 - acc: 0.9965\n",
            "Epoch 55/150\n",
            "117/117 [==============================] - 0s 4ms/step - loss: 0.0069 - acc: 0.9976\n",
            "Epoch 56/150\n",
            "117/117 [==============================] - 0s 4ms/step - loss: 0.0138 - acc: 0.9960\n",
            "Epoch 57/150\n",
            "117/117 [==============================] - 0s 4ms/step - loss: 0.0062 - acc: 0.9968\n",
            "Epoch 58/150\n",
            "117/117 [==============================] - 0s 4ms/step - loss: 0.0113 - acc: 0.9968\n",
            "Epoch 59/150\n",
            "117/117 [==============================] - 0s 4ms/step - loss: 0.0083 - acc: 0.9979\n",
            "Epoch 60/150\n",
            "117/117 [==============================] - 0s 4ms/step - loss: 0.0066 - acc: 0.9976\n",
            "Epoch 61/150\n",
            "117/117 [==============================] - 0s 4ms/step - loss: 0.0077 - acc: 0.9976\n",
            "Epoch 62/150\n",
            "117/117 [==============================] - 1s 4ms/step - loss: 0.0070 - acc: 0.9984\n",
            "Epoch 63/150\n",
            "117/117 [==============================] - 0s 4ms/step - loss: 0.0062 - acc: 0.9968\n",
            "Epoch 64/150\n",
            "117/117 [==============================] - 0s 4ms/step - loss: 0.0088 - acc: 0.9976\n",
            "Epoch 65/150\n",
            "117/117 [==============================] - 0s 4ms/step - loss: 0.0037 - acc: 0.9987\n",
            "Epoch 66/150\n",
            "117/117 [==============================] - 0s 4ms/step - loss: 0.0079 - acc: 0.9979\n",
            "Epoch 67/150\n",
            "117/117 [==============================] - 1s 5ms/step - loss: 0.0065 - acc: 0.9976\n",
            "Epoch 68/150\n",
            "117/117 [==============================] - 1s 6ms/step - loss: 0.0065 - acc: 0.9987\n",
            "Epoch 69/150\n",
            "117/117 [==============================] - 1s 6ms/step - loss: 0.0044 - acc: 0.9984\n",
            "Epoch 70/150\n",
            "117/117 [==============================] - 1s 7ms/step - loss: 0.0077 - acc: 0.9981\n",
            "Epoch 71/150\n",
            "117/117 [==============================] - 1s 6ms/step - loss: 0.0052 - acc: 0.9987\n",
            "Epoch 72/150\n",
            "117/117 [==============================] - 1s 7ms/step - loss: 0.0067 - acc: 0.9981\n",
            "Epoch 73/150\n",
            "117/117 [==============================] - 1s 6ms/step - loss: 0.0062 - acc: 0.9981\n",
            "Epoch 74/150\n",
            "117/117 [==============================] - 1s 6ms/step - loss: 0.0032 - acc: 0.9992\n",
            "Epoch 75/150\n",
            "117/117 [==============================] - 1s 6ms/step - loss: 0.0059 - acc: 0.9984\n",
            "Epoch 76/150\n",
            "117/117 [==============================] - 0s 4ms/step - loss: 0.0053 - acc: 0.9979\n",
            "Epoch 77/150\n",
            "117/117 [==============================] - 0s 4ms/step - loss: 0.0043 - acc: 0.9987\n",
            "Epoch 78/150\n",
            "117/117 [==============================] - 0s 4ms/step - loss: 0.0035 - acc: 0.9987\n",
            "Epoch 79/150\n",
            "117/117 [==============================] - 0s 4ms/step - loss: 0.0035 - acc: 0.9995\n",
            "Epoch 80/150\n",
            "117/117 [==============================] - 0s 4ms/step - loss: 0.0065 - acc: 0.9979\n",
            "Epoch 81/150\n",
            "117/117 [==============================] - 0s 4ms/step - loss: 0.0037 - acc: 0.9987\n",
            "Epoch 82/150\n",
            "117/117 [==============================] - 0s 4ms/step - loss: 0.0063 - acc: 0.9984\n",
            "Epoch 83/150\n",
            "117/117 [==============================] - 0s 4ms/step - loss: 0.0033 - acc: 0.9984\n",
            "Epoch 84/150\n",
            "117/117 [==============================] - 0s 4ms/step - loss: 0.0039 - acc: 0.9984\n",
            "Epoch 85/150\n",
            "117/117 [==============================] - 0s 4ms/step - loss: 0.0056 - acc: 0.9979\n",
            "Epoch 86/150\n",
            "117/117 [==============================] - 0s 4ms/step - loss: 0.0057 - acc: 0.9984\n",
            "Epoch 87/150\n",
            "117/117 [==============================] - 0s 4ms/step - loss: 0.0024 - acc: 0.9987\n",
            "Epoch 88/150\n",
            "117/117 [==============================] - 0s 4ms/step - loss: 0.0047 - acc: 0.9984\n",
            "Epoch 89/150\n",
            "117/117 [==============================] - 1s 4ms/step - loss: 0.0026 - acc: 0.9987\n",
            "Epoch 90/150\n",
            "117/117 [==============================] - 0s 4ms/step - loss: 0.0023 - acc: 0.9992\n",
            "Epoch 91/150\n",
            "117/117 [==============================] - 1s 5ms/step - loss: 0.0029 - acc: 0.9992\n",
            "Epoch 92/150\n",
            "117/117 [==============================] - 1s 6ms/step - loss: 0.0028 - acc: 0.9989\n",
            "Epoch 93/150\n",
            "117/117 [==============================] - 1s 6ms/step - loss: 0.0036 - acc: 0.9987\n",
            "Epoch 94/150\n",
            "117/117 [==============================] - 1s 6ms/step - loss: 0.0042 - acc: 0.9992\n",
            "Epoch 95/150\n",
            "117/117 [==============================] - 1s 6ms/step - loss: 0.0019 - acc: 0.9995\n",
            "Epoch 96/150\n",
            "117/117 [==============================] - 1s 6ms/step - loss: 0.0037 - acc: 0.9981\n",
            "Epoch 97/150\n",
            "117/117 [==============================] - 0s 4ms/step - loss: 0.0047 - acc: 0.9984\n",
            "Epoch 98/150\n",
            "117/117 [==============================] - 0s 4ms/step - loss: 0.0032 - acc: 0.9992\n",
            "Epoch 99/150\n",
            "117/117 [==============================] - 0s 4ms/step - loss: 0.0035 - acc: 0.9992\n",
            "Epoch 100/150\n",
            "117/117 [==============================] - 0s 4ms/step - loss: 0.0024 - acc: 0.9992\n",
            "Epoch 101/150\n",
            "117/117 [==============================] - 1s 4ms/step - loss: 0.0028 - acc: 0.9987\n",
            "Epoch 102/150\n",
            "117/117 [==============================] - 0s 4ms/step - loss: 0.0030 - acc: 0.9989\n",
            "Epoch 103/150\n",
            "117/117 [==============================] - 1s 4ms/step - loss: 0.0051 - acc: 0.9981\n",
            "Epoch 104/150\n",
            "117/117 [==============================] - 0s 4ms/step - loss: 0.0042 - acc: 0.9987\n",
            "Epoch 105/150\n",
            "117/117 [==============================] - 0s 4ms/step - loss: 9.6095e-04 - acc: 0.9997\n",
            "Epoch 106/150\n",
            "117/117 [==============================] - 0s 4ms/step - loss: 0.0035 - acc: 0.9981\n",
            "Epoch 107/150\n",
            "117/117 [==============================] - 0s 4ms/step - loss: 0.0026 - acc: 0.9989\n",
            "Epoch 108/150\n",
            "117/117 [==============================] - 0s 4ms/step - loss: 0.0031 - acc: 0.9984\n",
            "Epoch 109/150\n",
            "117/117 [==============================] - 0s 4ms/step - loss: 0.0044 - acc: 0.9987\n",
            "Epoch 110/150\n",
            "117/117 [==============================] - 0s 4ms/step - loss: 0.0047 - acc: 0.9987\n",
            "Epoch 111/150\n",
            "117/117 [==============================] - 0s 4ms/step - loss: 0.0027 - acc: 0.9995\n",
            "Epoch 112/150\n",
            "117/117 [==============================] - 0s 4ms/step - loss: 0.0025 - acc: 0.9987\n",
            "Epoch 113/150\n",
            "117/117 [==============================] - 0s 4ms/step - loss: 0.0026 - acc: 0.9984\n",
            "Epoch 114/150\n",
            "117/117 [==============================] - 0s 4ms/step - loss: 0.0073 - acc: 0.9979\n",
            "Epoch 115/150\n",
            "117/117 [==============================] - 0s 4ms/step - loss: 0.0011 - acc: 0.9997\n",
            "Epoch 116/150\n",
            "117/117 [==============================] - 0s 4ms/step - loss: 0.0030 - acc: 0.9987\n",
            "Epoch 117/150\n",
            "117/117 [==============================] - 1s 5ms/step - loss: 0.0045 - acc: 0.9992\n",
            "Epoch 118/150\n",
            "117/117 [==============================] - 1s 5ms/step - loss: 0.0013 - acc: 0.9997\n",
            "Epoch 119/150\n",
            "117/117 [==============================] - 1s 6ms/step - loss: 0.0025 - acc: 0.9997\n",
            "Epoch 120/150\n",
            "117/117 [==============================] - 1s 6ms/step - loss: 0.0012 - acc: 0.9995\n",
            "Epoch 121/150\n",
            "117/117 [==============================] - 1s 6ms/step - loss: 0.0035 - acc: 0.9987\n",
            "Epoch 122/150\n",
            "117/117 [==============================] - 1s 6ms/step - loss: 0.0030 - acc: 0.9989\n",
            "Epoch 123/150\n",
            "117/117 [==============================] - 0s 4ms/step - loss: 0.0025 - acc: 0.9987\n",
            "Epoch 124/150\n",
            "117/117 [==============================] - 0s 4ms/step - loss: 0.0032 - acc: 0.9987\n",
            "Epoch 125/150\n",
            "117/117 [==============================] - 0s 4ms/step - loss: 0.0016 - acc: 0.9989\n",
            "Epoch 126/150\n",
            "117/117 [==============================] - 0s 4ms/step - loss: 0.0039 - acc: 0.9981\n",
            "Epoch 127/150\n",
            "117/117 [==============================] - 1s 4ms/step - loss: 0.0012 - acc: 0.9997\n",
            "Epoch 128/150\n",
            "117/117 [==============================] - 0s 4ms/step - loss: 0.0018 - acc: 0.9992\n",
            "Epoch 129/150\n",
            "117/117 [==============================] - 0s 4ms/step - loss: 0.0019 - acc: 0.9989\n",
            "Epoch 130/150\n",
            "117/117 [==============================] - 0s 4ms/step - loss: 9.4823e-04 - acc: 0.9997\n",
            "Epoch 131/150\n",
            "117/117 [==============================] - 0s 4ms/step - loss: 0.0013 - acc: 0.9995\n",
            "Epoch 132/150\n",
            "117/117 [==============================] - 0s 4ms/step - loss: 0.0019 - acc: 0.9989\n",
            "Epoch 133/150\n",
            "117/117 [==============================] - 1s 5ms/step - loss: 0.0058 - acc: 0.9987\n",
            "Epoch 134/150\n",
            "117/117 [==============================] - 0s 4ms/step - loss: 0.0020 - acc: 0.9992\n",
            "Epoch 135/150\n",
            "117/117 [==============================] - 0s 4ms/step - loss: 0.0038 - acc: 0.9984\n",
            "Epoch 136/150\n",
            "117/117 [==============================] - 0s 4ms/step - loss: 0.0022 - acc: 0.9989\n",
            "Epoch 137/150\n",
            "117/117 [==============================] - 0s 4ms/step - loss: 0.0039 - acc: 0.9979\n",
            "Epoch 138/150\n",
            "117/117 [==============================] - 0s 4ms/step - loss: 0.0038 - acc: 0.9989\n",
            "Epoch 139/150\n",
            "117/117 [==============================] - 1s 4ms/step - loss: 0.0012 - acc: 0.9995\n",
            "Epoch 140/150\n",
            "117/117 [==============================] - 0s 4ms/step - loss: 0.0024 - acc: 0.9992\n",
            "Epoch 141/150\n",
            "117/117 [==============================] - 0s 4ms/step - loss: 0.0034 - acc: 0.9992\n",
            "Epoch 142/150\n",
            "117/117 [==============================] - 0s 4ms/step - loss: 0.0033 - acc: 0.9984\n",
            "Epoch 143/150\n",
            "117/117 [==============================] - 1s 5ms/step - loss: 0.0013 - acc: 0.9997\n",
            "Epoch 144/150\n",
            "117/117 [==============================] - 1s 6ms/step - loss: 0.0014 - acc: 0.9992\n",
            "Epoch 145/150\n",
            "117/117 [==============================] - 1s 6ms/step - loss: 0.0029 - acc: 0.9995\n",
            "Epoch 146/150\n",
            "117/117 [==============================] - 1s 6ms/step - loss: 0.0027 - acc: 0.9997\n",
            "Epoch 147/150\n",
            "117/117 [==============================] - 1s 6ms/step - loss: 0.0012 - acc: 0.9997\n",
            "Epoch 148/150\n",
            "117/117 [==============================] - 1s 5ms/step - loss: 0.0013 - acc: 0.9997\n",
            "Epoch 149/150\n",
            "117/117 [==============================] - 0s 4ms/step - loss: 0.0043 - acc: 0.9987\n",
            "Epoch 150/150\n",
            "117/117 [==============================] - 0s 4ms/step - loss: 0.0029 - acc: 0.9989\n"
          ]
        }
      ],
      "source": [
        "## Training\n",
        "\n",
        "history = model.fit(X_train,y_train,epochs = 150)\n",
        "\n"
      ]
    },
    {
      "cell_type": "code",
      "execution_count": null,
      "metadata": {
        "id": "N3RwgRSecGfU"
      },
      "outputs": [],
      "source": [
        "# plt.rcParams[\"figure.figsize\"] = (10 ,5)\n",
        "\n",
        "\n",
        "# # summarize history for accuracy\n",
        "# plt.plot(history.history['acc'])\n",
        "# plt.plot(history.history['val_acc'])\n",
        "# plt.title('Model Accuracy')\n",
        "# plt.ylabel('Accuracy')\n",
        "# plt.xlabel('Epoch')\n",
        "# plt.legend(['Training', 'Validation'], loc='lower right')\n",
        "# plt.show()\n",
        "# # summarize history for loss\n",
        "# plt.plot(history.history['loss'])\n",
        "# plt.plot(history.history['val_loss'])\n",
        "# plt.title('Model loss')\n",
        "# plt.ylabel('Loss')\n",
        "# plt.xlabel('Epoch')\n",
        "# plt.legend(['Training', 'Validation'], loc='upper right')\n",
        "# plt.show()"
      ]
    },
    {
      "cell_type": "code",
      "source": [
        "test_dir = f\"{data_root}/test1\"\n",
        "\n",
        "test_imgs = [f\"{test_dir}/{i}\" for i in os.listdir(f\"{test_dir}/\")]\n",
        "random.shuffle(test_imgs)\n",
        "\n",
        "\n",
        "\n",
        "random.shuffle(test_imgs)\n",
        "X_test, y_test = read_and_process_image(test_imgs)"
      ],
      "metadata": {
        "id": "rV8XDzW7c9bv"
      },
      "execution_count": null,
      "outputs": []
    },
    {
      "cell_type": "code",
      "execution_count": null,
      "metadata": {
        "id": "MwdmN-9Bc8tV"
      },
      "outputs": [],
      "source": [
        "X_test = np.array(X_test)\n",
        "y_test = np.array(y_test)\n"
      ]
    },
    {
      "cell_type": "code",
      "execution_count": null,
      "metadata": {
        "id": "KRFWEqPUkiyB"
      },
      "outputs": [],
      "source": [
        "import numpy as np\n",
        "from sklearn.metrics import confusion_matrix\n",
        "\n",
        "# Generate predictions\n",
        "y_pred = model.predict_generator(X_test)\n",
        "\n",
        "# Convert predictions to class labels\n",
        "# y_pred_classes = np.argmax(y_pred, axis=1)\n",
        "y_pred_classes = [0 if i <= 0.5 else 1 for i in y_pred]\n",
        "\n",
        "# Compute confusion matrix\n",
        "confusion_mtx = confusion_matrix(y_test, y_pred_classes)\n",
        "\n",
        "# Print confusion matrix\n",
        "print(confusion_mtx)\n",
        "print('Classification Report')\n",
        "# target_names = ['Not checked','checked']\n",
        "print(classification_report(y_test, y_pred_classes))"
      ]
    },
    {
      "cell_type": "code",
      "source": [
        "model.save('image_classifier.h5')"
      ],
      "metadata": {
        "id": "8tHUbRPedIO_"
      },
      "execution_count": null,
      "outputs": []
    },
    {
      "cell_type": "code",
      "source": [],
      "metadata": {
        "id": "zedOFIhzgMJP"
      },
      "execution_count": null,
      "outputs": []
    }
  ],
  "metadata": {
    "accelerator": "GPU",
    "colab": {
      "provenance": [],
      "gpuType": "T4",
      "authorship_tag": "ABX9TyNcAtGOeVx+9Y9c9dJdGlTg",
      "include_colab_link": true
    },
    "gpuClass": "standard",
    "kernelspec": {
      "display_name": "Python 3",
      "name": "python3"
    },
    "language_info": {
      "name": "python"
    }
  },
  "nbformat": 4,
  "nbformat_minor": 0
}