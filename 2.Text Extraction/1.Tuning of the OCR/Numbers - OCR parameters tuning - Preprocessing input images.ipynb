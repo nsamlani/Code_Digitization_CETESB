{
 "cells": [
  {
   "cell_type": "code",
   "execution_count": 11,
   "metadata": {},
   "outputs": [],
   "source": [
    "import fastwer\n",
    "import jiwer\n",
    "import os\n",
    "import numpy as np\n",
    "import pandas as pd\n",
    "import matplotlib.pyplot as plt\n",
    "from IPython.display import Image, display\n",
    "import pandas\n",
    "import pytesseract\n",
    "from pytesseract import Output\n",
    "import cv2\n",
    "from statistics import mean\n",
    "\n",
    "\n",
    "pytesseract.pytesseract.tesseract_cmd = 'C:\\\\Program Files\\\\Tesseract-OCR\\\\tesseract.exe'"
   ]
  },
  {
   "cell_type": "code",
   "execution_count": 14,
   "metadata": {},
   "outputs": [],
   "source": [
    "########### DATA 300 dpi ################\n",
    "path_300 = \"Cropped 2012 Text/\"\n",
    "f_imgs = [f for f in os.listdir(path_300)]\n",
    "str_nb = ['UTM_N','UTM_E']\n",
    "str_lngTxt = ['Classification', 'Company' , 'Address']\n",
    "str_shortTxt = ['Datum','Fuse']"
   ]
  },
  {
   "cell_type": "code",
   "execution_count": 19,
   "metadata": {},
   "outputs": [
    {
     "data": {
      "text/plain": [
       "9144"
      ]
     },
     "execution_count": 19,
     "metadata": {},
     "output_type": "execute_result"
    }
   ],
   "source": [
    "imgs_numbers = [f for f in os.listdir(path_300) if any(s in f for s in ['UTM_E','UTM_N'])] \n",
    "len(imgs_numbers)"
   ]
  },
  {
   "cell_type": "code",
   "execution_count": 21,
   "metadata": {
    "scrolled": false
   },
   "outputs": [],
   "source": [
    "# imgs_numbers"
   ]
  },
  {
   "cell_type": "code",
   "execution_count": 10,
   "metadata": {},
   "outputs": [
    {
     "data": {
      "text/plain": [
       "'C:\\\\Users\\\\x1\\\\OneDrive - Teesside University\\\\1.Ongoing Projects\\\\3.Brazil Contaminated Sites\\\\1. Registry Dgitization\\\\2.Code'"
      ]
     },
     "execution_count": 10,
     "metadata": {},
     "output_type": "execute_result"
    }
   ],
   "source": [
    "pwd()"
   ]
  },
  {
   "cell_type": "code",
   "execution_count": 47,
   "metadata": {},
   "outputs": [
    {
     "name": "stdout",
     "output_type": "stream",
     "text": [
      "0\n"
     ]
    }
   ],
   "source": [
    "############ Binarization Numbers\n",
    "path_300 = \"Cropped 2012 Text/\"\n",
    "imgs_numbers = [f for f in os.listdir(path_300) if 'UTM_' in f]\n",
    "# imgs_lngTxt = [f for f in os.listdir(path_300) if any(s in f for s in str_lngTxt)]\n",
    "# imgs_shortTxt = [f for f in os.listdir(path_300) if any(s in f for s in str_shortTxt)]\n",
    "\n",
    "\n",
    "n = int(len(my_list) * 0.1)\n",
    "\n",
    "# Get n random elements from the list\n",
    "random_elements = random.sample(my_list, n)\n",
    "\n",
    "print(random_elements) \n",
    "avgs_nbs = []\n",
    "min_txt_nbs = []\n",
    "empty_nbs_count = 0\n",
    "whitelist = \"0123456789., \"\n",
    "\n",
    "# f_imgs = [f for f in os.listdir(path_300)]\n",
    "for f in imgs_numbers:\n",
    "    path_img =  path_300 + f\n",
    "\n",
    "    img = cv2.imread(path_img,0)\n",
    "#     img = cv2.cvtColor(img,cv2.COLOR_BGR2GRAY)\n",
    "    img = cv2.resize(img,(0,0),fx=1,fy=1)\n",
    "    img_smooth = cv2.medianBlur(img, 5)\n",
    "    _, img_thresh = cv2.threshold(img_smooth, 200, 255, cv2.THRESH_BINARY)\n",
    "#     img_float = img.astype(float)\n",
    "#     gamma = 0.25\n",
    "    \n",
    "#     img_corrected = np.power(img_float, gamma)\n",
    "#     img_corrected = np.uint8(img_corrected)\n",
    "#     _, binary = cv2.threshold(img_corrected, 0, 255, cv2.THRESH_BINARY + cv2.THRESH_OTSU)\n",
    "    ocr = pytesseract.image_to_data(binary,lang='por',config= f'-c tessedit_char_whitelist={whitelist}',\n",
    "                                    output_type = Output.DATAFRAME, pandas_config=None)\n",
    " \n",
    "    confs = []\n",
    "    for index, row in ocr.iterrows():\n",
    "        if row['word_num'] != 0:\n",
    "            confs.append((row['conf'],index))\n",
    "            \n",
    "    confs_dict_per_img = dict(confs)\n",
    "\n",
    "    if len(confs_dict_per_img) != 0:\n",
    "        avg_confs = mean(confs_dict_per_img.keys())\n",
    "        avgs_nbs.append((f,avg_confs))\n",
    "\n",
    "        min_conf_index = confs_dict_per_img[min(confs_dict_per_img.keys())]\n",
    "        min_conf_txt = ocr.loc[ocr.index[min_conf_index],'text']\n",
    "        min_txt_nbs.append((f,min_conf_txt))\n",
    "            \n",
    "    else:\n",
    "        empty_nbs_count = empty_nbs_count + 1\n",
    "        \n",
    "avgs_nbs_dict=dict(avgs_nbs)\n",
    "min_txt_nbs_dict=dict(min_txt_nbs)\n",
    "print(empty_nbs_count)"
   ]
  },
  {
   "cell_type": "code",
   "execution_count": 27,
   "metadata": {},
   "outputs": [
    {
     "data": {
      "text/plain": [
       "8986"
      ]
     },
     "execution_count": 27,
     "metadata": {},
     "output_type": "execute_result"
    }
   ],
   "source": [
    "total_nbs = len(avgs_nbs_dict)\n",
    "total_nbs"
   ]
  },
  {
   "cell_type": "code",
   "execution_count": 48,
   "metadata": {},
   "outputs": [
    {
     "name": "stdout",
     "output_type": "stream",
     "text": [
      "Corrected gamma + binarization\n",
      "0.0-10.0: 0.0\n",
      "10.0-20.0: 0.0\n",
      "20.0-30.0: 0.0\n",
      "30.0-40.0: 0.0\n",
      "40.0-50.0: 0.0\n",
      "50.0-60.0: 0.0\n",
      "60.0-70.0: 0.0\n",
      "70.0-80.0: 0.0\n",
      "80.0-90.0: 0.0\n",
      "90.0-100.0: 100.0\n"
     ]
    }
   ],
   "source": [
    "total_nbs = len(avgs_nbs_dict)\n",
    "\n",
    "# Define the number of bins and the range of the data\n",
    "num_bins = 10\n",
    "data_range = (0, 100)\n",
    "\n",
    "# Calculate the histogram using numpy\n",
    "hist, bin_edges = np.histogram(list(avgs_nbs_dict.values()), bins=num_bins, range=data_range)\n",
    "print('Corrected gamma + binarization')\n",
    "# Print the histogram values\n",
    "\n",
    "for i in range(num_bins):\n",
    "\n",
    "    print(f'{bin_edges[i]}-{bin_edges[i+1]}: {(hist[i]/total_nbs)*100}')"
   ]
  },
  {
   "cell_type": "code",
   "execution_count": null,
   "metadata": {},
   "outputs": [],
   "source": []
  }
 ],
 "metadata": {
  "kernelspec": {
   "display_name": "Python 3",
   "language": "python",
   "name": "python3"
  },
  "language_info": {
   "codemirror_mode": {
    "name": "ipython",
    "version": 3
   },
   "file_extension": ".py",
   "mimetype": "text/x-python",
   "name": "python",
   "nbconvert_exporter": "python",
   "pygments_lexer": "ipython3",
   "version": "3.7.9"
  }
 },
 "nbformat": 4,
 "nbformat_minor": 4
}
