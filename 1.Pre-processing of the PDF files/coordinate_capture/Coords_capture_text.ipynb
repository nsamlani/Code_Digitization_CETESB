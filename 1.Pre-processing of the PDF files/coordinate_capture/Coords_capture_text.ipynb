{
 "cells": [
  {
   "cell_type": "code",
   "execution_count": null,
   "metadata": {
    "scrolled": false
   },
   "outputs": [
    {
     "name": "stdout",
     "output_type": "stream",
     "text": [
      "Click corners to determine the field\n",
      "(119, 309)\n",
      "(2311, 351)\n",
      "Enter Type:text\n",
      "Enter Name:Company Name\n",
      "[[(119, 309), (2311, 351), 'text', 'Company Name']]\n",
      "(119, 372)\n",
      "(2310, 419)\n",
      "Enter Type:text\n",
      "Enter Name:Address\n",
      "[[(119, 309), (2311, 351), 'text', 'Company Name'], [(119, 372), (2310, 419), 'text', 'Address']]\n",
      "(406, 476)\n",
      "(583, 529)\n",
      "Enter Type:text\n",
      "Enter Name:Fuse\n",
      "[[(119, 309), (2311, 351), 'text', 'Company Name'], [(119, 372), (2310, 419), 'text', 'Address'], [(406, 476), (583, 529), 'text', 'Fuse']]\n",
      "(709, 481)\n",
      "(968, 530)\n",
      "Enter Type:text\n",
      "Enter Name:Datum\n",
      "[[(119, 309), (2311, 351), 'text', 'Company Name'], [(119, 372), (2310, 419), 'text', 'Address'], [(406, 476), (583, 529), 'text', 'Fuse'], [(709, 481), (968, 530), 'text', 'Datum']]\n",
      "(1084, 483)\n",
      "(1291, 530)\n",
      "Enter Type:text\n",
      "Enter Name:UTM_E\n",
      "[[(119, 309), (2311, 351), 'text', 'Company Name'], [(119, 372), (2310, 419), 'text', 'Address'], [(406, 476), (583, 529), 'text', 'Fuse'], [(709, 481), (968, 530), 'text', 'Datum'], [(1084, 483), (1291, 530), 'text', 'UTM_E']]\n",
      "(1409, 479)\n",
      "(1673, 530)\n",
      "Enter Type:text\n",
      "Enter Name:UTM_N\n",
      "[[(119, 309), (2311, 351), 'text', 'Company Name'], [(119, 372), (2310, 419), 'text', 'Address'], [(406, 476), (583, 529), 'text', 'Fuse'], [(709, 481), (968, 530), 'text', 'Datum'], [(1084, 483), (1291, 530), 'text', 'UTM_E'], [(1409, 479), (1673, 530), 'text', 'UTM_N']]\n",
      "(348, 537)\n",
      "(1845, 587)\n",
      "Enter Type:text\n",
      "Enter Name:Classification\n",
      "[[(119, 309), (2311, 351), 'text', 'Company Name'], [(119, 372), (2310, 419), 'text', 'Address'], [(406, 476), (583, 529), 'text', 'Fuse'], [(709, 481), (968, 530), 'text', 'Datum'], [(1084, 483), (1291, 530), 'text', 'UTM_E'], [(1409, 479), (1673, 530), 'text', 'UTM_N'], [(348, 537), (1845, 587), 'text', 'Classification']]\n"
     ]
    }
   ],
   "source": [
    "\n",
    "import numpy as np\n",
    "import cv2\n",
    "\n",
    "params = np.zeros([1, 2])  # init params\n",
    "s_img = np.zeros((702, 496, 3), np.uint8)\n",
    "\n",
    "window_name = 'img'\n",
    "#posList = []\n",
    "\n",
    "def main():\n",
    "    global s_img\n",
    "    img = cv2.imread('../1.DATA/3.forms_images/dec2012_300dpi/CETESB_registry_2012-1.jpg')\n",
    "    s_img = cv2.resize(img, (0, 0), fx=1, fy=1)\n",
    "    s_img = cv2.cvtColor(s_img, cv2.COLOR_BGR2RGB)\n",
    "\n",
    "#     cv2.startWindowThread()\n",
    "    cv2.imshow(window_name, s_img)\n",
    "\n",
    "    print ('Click corners to determine the field')\n",
    "    cv2.setMouseCallback(window_name, on_mouse, None)\n",
    "\n",
    "    while True:\n",
    "        k = cv2.waitKey(0) & 0xFF\n",
    "\n",
    "        if k == 27:\n",
    "            break # destroy window\n",
    "counter=0\n",
    "counter2 = 0\n",
    "myPoints = []\n",
    "point1 = (0,0)\n",
    "point2 = (0,0)\n",
    "\n",
    "def on_mouse(event, x, y, flag, param):\n",
    "    global s_img,counter,counter2,myPoints,point1,point2\n",
    "\n",
    "    if event == cv2.EVENT_LBUTTONDOWN:\n",
    "        cv2.circle(s_img, (x, y), 1, (255, 0, 0), -1)\n",
    "        cv2.imshow(window_name, s_img)\n",
    "        if counter==0:\n",
    "            point1 =(x,y)\n",
    "            print(point1)\n",
    "            counter += 1\n",
    "        elif counter ==1:\n",
    "            point2 =(x,y)\n",
    "            print(point2)\n",
    "            starting_x = point1[0]\n",
    "            starting_y = point1[1]\n",
    "            ending_x = point2[0]\n",
    "            ending_y = point2[1]\n",
    "            cv2.rectangle(s_img, (starting_x, starting_y), (ending_x, ending_y), (0, 255, 0), 2)\n",
    "\n",
    "            type_area = input('Enter Type:')\n",
    "            name = input('Enter Name:')\n",
    "            myPoints.append([point1,point2,type_area,name])\n",
    "            print(myPoints)\n",
    "            counter = 0 \n",
    "            counter2 += 1\n",
    "\n",
    "\n",
    "\n",
    "      \n",
    "if __name__ == '__main__':\n",
    "    main()"
   ]
  },
  {
   "cell_type": "code",
   "execution_count": null,
   "metadata": {},
   "outputs": [],
   "source": [
    "img = cv2.imread('../1.DATA/3.forms_images/dec2012_300dpi/CETESB_registry_2012-1.jpg')\n",
    "# s_img = cv2.resize(img, (0, 0), fx=1, fy=1)\n",
    "# s_img = cv2.cvtColor(s_img, cv2.COLOR_BGR2RGB)\n",
    "\n",
    "#     cv2.startWindowThread()\n",
    "cv2.imshow(window_name, img)"
   ]
  },
  {
   "cell_type": "code",
   "execution_count": null,
   "metadata": {},
   "outputs": [],
   "source": [
    "pip uninstall opencv-python-headless"
   ]
  },
  {
   "cell_type": "code",
   "execution_count": 1,
   "metadata": {},
   "outputs": [
    {
     "ename": "NameError",
     "evalue": "name 'starting_x' is not defined",
     "output_type": "error",
     "traceback": [
      "\u001b[1;31m---------------------------------------------------------------------------\u001b[0m",
      "\u001b[1;31mNameError\u001b[0m                                 Traceback (most recent call last)",
      "\u001b[1;32m<ipython-input-1-36856ad527ce>\u001b[0m in \u001b[0;36m<module>\u001b[1;34m\u001b[0m\n\u001b[1;32m----> 1\u001b[1;33m \u001b[0mprint\u001b[0m\u001b[1;33m(\u001b[0m\u001b[1;33m(\u001b[0m\u001b[0mstarting_x\u001b[0m\u001b[1;33m,\u001b[0m \u001b[0mstarting_y\u001b[0m\u001b[1;33m)\u001b[0m\u001b[1;33m,\u001b[0m \u001b[1;33m(\u001b[0m\u001b[0mending_x\u001b[0m\u001b[1;33m,\u001b[0m \u001b[0mending_y\u001b[0m\u001b[1;33m)\u001b[0m\u001b[1;33m)\u001b[0m\u001b[1;33m\u001b[0m\u001b[1;33m\u001b[0m\u001b[0m\n\u001b[0m",
      "\u001b[1;31mNameError\u001b[0m: name 'starting_x' is not defined"
     ]
    }
   ],
   "source": [
    "print((starting_x, starting_y), (ending_x, ending_y))"
   ]
  },
  {
   "cell_type": "code",
   "execution_count": null,
   "metadata": {},
   "outputs": [],
   "source": []
  }
 ],
 "metadata": {
  "celltoolbar": "Aucun(e)",
  "kernelspec": {
   "display_name": "Python 3",
   "language": "python",
   "name": "python3"
  },
  "language_info": {
   "codemirror_mode": {
    "name": "ipython",
    "version": 3
   },
   "file_extension": ".py",
   "mimetype": "text/x-python",
   "name": "python",
   "nbconvert_exporter": "python",
   "pygments_lexer": "ipython3",
   "version": "3.7.9"
  }
 },
 "nbformat": 4,
 "nbformat_minor": 4
}
